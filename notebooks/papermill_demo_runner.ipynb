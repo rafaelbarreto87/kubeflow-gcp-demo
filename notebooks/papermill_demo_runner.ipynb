{
 "cells": [
  {
   "cell_type": "code",
   "execution_count": 1,
   "metadata": {},
   "outputs": [
    {
     "name": "stdout",
     "output_type": "stream",
     "text": [
      "Activated service account credentials for: [kubeflow-user@kubeflow-demo-256908.iam.gserviceaccount.com]\n"
     ]
    }
   ],
   "source": [
    "!gcloud auth activate-service-account --key-file=${GOOGLE_APPLICATION_CREDENTIALS}"
   ]
  },
  {
   "cell_type": "code",
   "execution_count": 2,
   "metadata": {},
   "outputs": [],
   "source": [
    "%%capture pip_install_out\n",
    "\n",
    "!pip install pip --upgrade\n",
    "!pip install -r mlpipeline_utils/requirements.txt --upgrade"
   ]
  },
  {
   "cell_type": "code",
   "execution_count": 3,
   "metadata": {},
   "outputs": [],
   "source": [
    "import logging\n",
    "import os\n",
    "import sys\n",
    "sys.path.append('../mlpipeline_utils')\n",
    "import uuid\n",
    "\n",
    "import kfp\n",
    "import kfp.gcp\n",
    "\n",
    "from mlpipeline_utils.kfp_components import *\n",
    "\n",
    "\n",
    "logging.getLogger().setLevel(logging.INFO)"
   ]
  },
  {
   "cell_type": "code",
   "execution_count": 4,
   "metadata": {},
   "outputs": [],
   "source": [
    "PROJECT_ID = !gcloud config get-value project\n",
    "PROJECT_ID = PROJECT_ID[0]\n",
    "BASE_GCS_PATH = f'gs://{PROJECT_ID}-dev/'"
   ]
  },
  {
   "cell_type": "code",
   "execution_count": 5,
   "metadata": {},
   "outputs": [
    {
     "name": "stderr",
     "output_type": "stream",
     "text": [
      "INFO:root:Creating the build context directory: /tmp/tmp77exrzq8\n",
      "INFO:root:Generating the Dockerfile\n",
      "INFO:root:Generate build files.\n",
      "INFO:root:Start a kaniko job for build.\n",
      "INFO:root:Initialized with in-cluster config.\n",
      "INFO:root:5 seconds: waiting for job to complete\n",
      "INFO:root:10 seconds: waiting for job to complete\n",
      "INFO:root:15 seconds: waiting for job to complete\n",
      "INFO:root:Kaniko job complete.\n",
      "INFO:root:Built and pushed image: gcr.io/kubeflow-demo-256908/notebook-kubeflow-rafaelbarreto87-notebook-dev/kfp_container@sha256:b872629b9b6c2767004671cbb8b389b3d8dbb14b1921bef12e8f385b0cee3f88.\n"
     ]
    },
    {
     "data": {
      "text/plain": [
       "'gcr.io/kubeflow-demo-256908/notebook-kubeflow-rafaelbarreto87-notebook-dev/kfp_container@sha256:b872629b9b6c2767004671cbb8b389b3d8dbb14b1921bef12e8f385b0cee3f88'"
      ]
     },
     "execution_count": 5,
     "metadata": {},
     "output_type": "execute_result"
    }
   ],
   "source": [
    "UTILS_IMAGE = kfp.containers.build_image_from_working_dir(\n",
    "    working_dir='../mlpipeline_utils',\n",
    "    base_image=f'gcr.io/{PROJECT_ID}/kfp-base',\n",
    ")\n",
    "UTILS_IMAGE"
   ]
  },
  {
   "cell_type": "code",
   "execution_count": 6,
   "metadata": {},
   "outputs": [],
   "source": [
    "@kfp.dsl.pipeline()\n",
    "def papermill_pipeline(\n",
    "    notebook_path: str,\n",
    "    output_notebook_path: str,\n",
    "    papermill_options: str='',\n",
    "    \n",
    "):\n",
    "    papermill_comp(\n",
    "        notebook_path=notebook_path,\n",
    "        output_notebook_path=output_notebook_path,\n",
    "        papermill_base_image=UTILS_IMAGE,\n",
    "        papermill_options=papermill_options\n",
    "    ) \\\n",
    "        .apply(kfp.gcp.use_gcp_secret('user-gcp-sa')) \\\n",
    "        .set_cpu_request('2') \\\n",
    "#         .set_gpu_limit(1, 'nvidia')"
   ]
  },
  {
   "cell_type": "code",
   "execution_count": 7,
   "metadata": {},
   "outputs": [
    {
     "name": "stdout",
     "output_type": "stream",
     "text": [
      "Copying file://papermill_demo.ipynb [Content-Type=application/octet-stream]...\n",
      "/ [1 files][  1.0 KiB/  1.0 KiB]                                                \n",
      "Operation completed over 1 objects/1.0 KiB.                                      \n"
     ]
    }
   ],
   "source": [
    "papermill_demo_gcs_path = os.path.join(BASE_GCS_PATH, 'notebooks', 'papermill_demo.ipynb')\n",
    "papermill_demo_output_gcs_path = os.path.join(BASE_GCS_PATH, 'notebooks', 'papermill_demo.output.ipynb')\n",
    "!gsutil cp papermill_demo.ipynb {papermill_demo_gcs_path}"
   ]
  },
  {
   "cell_type": "code",
   "execution_count": 8,
   "metadata": {},
   "outputs": [
    {
     "data": {
      "text/html": [
       "Experiment link <a href=\"/pipeline/#/experiments/details/e9731d31-4bc4-44d2-8c5d-b48e73df2f6c\" target=\"_blank\" >here</a>"
      ],
      "text/plain": [
       "<IPython.core.display.HTML object>"
      ]
     },
     "metadata": {},
     "output_type": "display_data"
    },
    {
     "data": {
      "text/html": [
       "Run link <a href=\"/pipeline/#/runs/details/ba825164-f8a5-11e9-9d63-42010a800157\" target=\"_blank\" >here</a>"
      ],
      "text/plain": [
       "<IPython.core.display.HTML object>"
      ]
     },
     "metadata": {},
     "output_type": "display_data"
    },
    {
     "data": {
      "text/plain": [
       "<kfp._client.Client.create_run_from_pipeline_package.<locals>.RunPipelineResult at 0x7f29621f1e80>"
      ]
     },
     "execution_count": 8,
     "metadata": {},
     "output_type": "execute_result"
    }
   ],
   "source": [
    "run_id = str(uuid.uuid4()).replace('-', '')\n",
    "kfp.Client().create_run_from_pipeline_func(\n",
    "    papermill_pipeline,\n",
    "    arguments={\n",
    "        'notebook_path': papermill_demo_gcs_path,\n",
    "        'output_notebook_path': papermill_demo_output_gcs_path,\n",
    "        'papermill_options': ''\n",
    "    },\n",
    "    run_name=f'papermill_demo_{run_id}'\n",
    ")"
   ]
  },
  {
   "cell_type": "code",
   "execution_count": 9,
   "metadata": {},
   "outputs": [
    {
     "name": "stdout",
     "output_type": "stream",
     "text": [
      "Copying gs://kubeflow-demo-256908-dev/notebooks/papermill_demo.output.ipynb...\n",
      "/ [1 files][  2.2 KiB/  2.2 KiB]                                                \n",
      "Operation completed over 1 objects/2.2 KiB.                                      \n"
     ]
    }
   ],
   "source": [
    "!gsutil cp {papermill_demo_output_gcs_path} papermill_demo.output.ipynb"
   ]
  }
 ],
 "metadata": {
  "kernelspec": {
   "display_name": "Python 3",
   "language": "python",
   "name": "python3"
  },
  "language_info": {
   "codemirror_mode": {
    "name": "ipython",
    "version": 3
   },
   "file_extension": ".py",
   "mimetype": "text/x-python",
   "name": "python",
   "nbconvert_exporter": "python",
   "pygments_lexer": "ipython3",
   "version": "3.6.7"
  }
 },
 "nbformat": 4,
 "nbformat_minor": 4
}
