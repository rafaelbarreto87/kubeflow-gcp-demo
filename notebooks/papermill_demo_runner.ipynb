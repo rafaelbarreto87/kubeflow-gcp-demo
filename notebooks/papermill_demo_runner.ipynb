{
 "cells": [
  {
   "cell_type": "markdown",
   "metadata": {},
   "source": [
    "# Running a notebook in the cluster using papermill "
   ]
  },
  {
   "cell_type": "markdown",
   "metadata": {},
   "source": [
    "## Setup"
   ]
  },
  {
   "cell_type": "markdown",
   "metadata": {},
   "source": [
    "### GCP authentication"
   ]
  },
  {
   "cell_type": "code",
   "execution_count": 1,
   "metadata": {},
   "outputs": [
    {
     "name": "stdout",
     "output_type": "stream",
     "text": [
      "Activated service account credentials for: [kubeflow-user@kubeflow-demo-256908.iam.gserviceaccount.com]\n"
     ]
    }
   ],
   "source": [
    "!gcloud auth activate-service-account --key-file=${GOOGLE_APPLICATION_CREDENTIALS}"
   ]
  },
  {
   "cell_type": "markdown",
   "metadata": {},
   "source": [
    "### Install required packages and import packages"
   ]
  },
  {
   "cell_type": "code",
   "execution_count": 2,
   "metadata": {},
   "outputs": [],
   "source": [
    "%%capture pip_install_out\n",
    "\n",
    "!pip install pip --upgrade\n",
    "!pip install -r mlpipeline_utils/requirements.txt --upgrade"
   ]
  },
  {
   "cell_type": "code",
   "execution_count": 3,
   "metadata": {},
   "outputs": [],
   "source": [
    "import itertools\n",
    "import logging\n",
    "import os\n",
    "import sys\n",
    "sys.path.append('../mlpipeline_utils')\n",
    "import uuid\n",
    "\n",
    "import kfp\n",
    "import kfp.gcp\n",
    "\n",
    "from mlpipeline_utils.kfp_components import *\n",
    "\n",
    "\n",
    "logging.getLogger().setLevel(logging.INFO)"
   ]
  },
  {
   "cell_type": "code",
   "execution_count": 4,
   "metadata": {},
   "outputs": [
    {
     "name": "stdout",
     "output_type": "stream",
     "text": [
      "Creating gs://kubeflow-demo-256908-dev/...\n",
      "ServiceException: 409 Bucket kubeflow-demo-256908-dev already exists.\n"
     ]
    }
   ],
   "source": [
    "PROJECT_ID = !gcloud config get-value project\n",
    "PROJECT_ID = PROJECT_ID[0]\n",
    "DEV_BUCKET = f'gs://{PROJECT_ID}-dev'\n",
    "!gsutil mb -b on {DEV_BUCKET}\n",
    "BASE_GCS_PATH = os.path.join(DEV_BUCKET, 'notebooks')"
   ]
  },
  {
   "cell_type": "markdown",
   "metadata": {},
   "source": [
    "## Papermill"
   ]
  },
  {
   "cell_type": "markdown",
   "metadata": {},
   "source": [
    "### Select base image to be used for papermill"
   ]
  },
  {
   "cell_type": "code",
   "execution_count": 5,
   "metadata": {},
   "outputs": [],
   "source": [
    "PAPERMILL_BASE_IMAGE = f'gcr.io/{PROJECT_ID}/kfp-base'"
   ]
  },
  {
   "cell_type": "markdown",
   "metadata": {},
   "source": [
    "### Configures input/output notebooks for papermill"
   ]
  },
  {
   "cell_type": "code",
   "execution_count": 6,
   "metadata": {},
   "outputs": [],
   "source": [
    "PAPERMILL_DEMO_GCS_PATH = os.path.join(BASE_GCS_PATH, 'papermill_demo.ipynb')\n",
    "PAPERMILL_DEMO_OUTPUT_GCS_PATH = os.path.join(BASE_GCS_PATH, 'papermill_demo.output.ipynb')"
   ]
  },
  {
   "cell_type": "markdown",
   "metadata": {},
   "source": [
    "### Defines a boilerplate Kubeflow Pipeline to run the notebook using papermill"
   ]
  },
  {
   "cell_type": "code",
   "execution_count": 7,
   "metadata": {},
   "outputs": [],
   "source": [
    "@kfp.dsl.pipeline()\n",
    "def papermill_pipeline(\n",
    "    papermill_options: str='',\n",
    "    \n",
    "):\n",
    "    papermill_comp(\n",
    "        notebook_path=PAPERMILL_DEMO_GCS_PATH,\n",
    "        output_notebook_path=PAPERMILL_DEMO_OUTPUT_GCS_PATH,\n",
    "        papermill_base_image=PAPERMILL_BASE_IMAGE,\n",
    "        papermill_options=papermill_options\n",
    "    ) \\\n",
    "        .apply(kfp.gcp.use_gcp_secret('user-gcp-sa')) \\\n",
    "        .set_cpu_request('2') \\\n",
    "#         .set_gpu_limit(1, 'nvidia')"
   ]
  },
  {
   "cell_type": "markdown",
   "metadata": {},
   "source": [
    "### Copy the local notebook to GCS and run the papermill pipeline"
   ]
  },
  {
   "cell_type": "code",
   "execution_count": 8,
   "metadata": {},
   "outputs": [
    {
     "name": "stdout",
     "output_type": "stream",
     "text": [
      "Copying file://papermill_demo.ipynb [Content-Type=application/octet-stream]...\n",
      "/ [1 files][ 17.0 KiB/ 17.0 KiB]                                                \n",
      "Operation completed over 1 objects/17.0 KiB.                                     \n"
     ]
    },
    {
     "data": {
      "text/html": [
       "Experiment link <a href=\"/pipeline/#/experiments/details/e9731d31-4bc4-44d2-8c5d-b48e73df2f6c\" target=\"_blank\" >here</a>"
      ],
      "text/plain": [
       "<IPython.core.display.HTML object>"
      ]
     },
     "metadata": {},
     "output_type": "display_data"
    },
    {
     "data": {
      "text/html": [
       "Run link <a href=\"/pipeline/#/runs/details/add8e53e-f91d-11e9-9d63-42010a800157\" target=\"_blank\" >here</a>"
      ],
      "text/plain": [
       "<IPython.core.display.HTML object>"
      ]
     },
     "metadata": {},
     "output_type": "display_data"
    },
    {
     "data": {
      "text/plain": [
       "<kfp._client.Client.create_run_from_pipeline_package.<locals>.RunPipelineResult at 0x7f04df79a898>"
      ]
     },
     "execution_count": 8,
     "metadata": {},
     "output_type": "execute_result"
    }
   ],
   "source": [
    "!gsutil cp papermill_demo.ipynb {PAPERMILL_DEMO_GCS_PATH}\n",
    "run_id = str(uuid.uuid4()).replace('-', '')\n",
    "parameters = {\n",
    "    'x': 10,\n",
    "    'y': 200\n",
    "}\n",
    "kfp.Client().create_run_from_pipeline_func(\n",
    "    papermill_pipeline,\n",
    "    arguments={\n",
    "        'papermill_options': ' '.join(\n",
    "            itertools.chain.from_iterable(\n",
    "                ['-p', str(k), str(v)] for k, v in parameters.items()\n",
    "            )\n",
    "        )\n",
    "    },\n",
    "    run_name=f'papermill_demo_{run_id}'\n",
    ")"
   ]
  },
  {
   "cell_type": "markdown",
   "metadata": {},
   "source": [
    "### Retrieve the resulting notebook once it's done"
   ]
  },
  {
   "cell_type": "code",
   "execution_count": 9,
   "metadata": {},
   "outputs": [
    {
     "name": "stdout",
     "output_type": "stream",
     "text": [
      "Copying gs://kubeflow-demo-256908-dev/notebooks/papermill_demo.output.ipynb...\n",
      "/ [1 files][169.1 KiB/169.1 KiB]                                                \n",
      "Operation completed over 1 objects/169.1 KiB.                                    \n"
     ]
    }
   ],
   "source": [
    "!gsutil cp {PAPERMILL_DEMO_OUTPUT_GCS_PATH} papermill_demo.output.ipynb"
   ]
  }
 ],
 "metadata": {
  "kernelspec": {
   "display_name": "Python 3",
   "language": "python",
   "name": "python3"
  },
  "language_info": {
   "codemirror_mode": {
    "name": "ipython",
    "version": 3
   },
   "file_extension": ".py",
   "mimetype": "text/x-python",
   "name": "python",
   "nbconvert_exporter": "python",
   "pygments_lexer": "ipython3",
   "version": "3.6.7"
  }
 },
 "nbformat": 4,
 "nbformat_minor": 4
}
