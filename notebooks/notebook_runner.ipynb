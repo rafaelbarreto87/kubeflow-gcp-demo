{
 "cells": [
  {
   "cell_type": "markdown",
   "metadata": {},
   "source": [
    "# Running a notebook in the cluster"
   ]
  },
  {
   "cell_type": "markdown",
   "metadata": {},
   "source": [
    "## Setup"
   ]
  },
  {
   "cell_type": "markdown",
   "metadata": {},
   "source": [
    "### GCP authentication"
   ]
  },
  {
   "cell_type": "code",
   "execution_count": null,
   "metadata": {},
   "outputs": [],
   "source": [
    "!gcloud auth activate-service-account --key-file=${GOOGLE_APPLICATION_CREDENTIALS}"
   ]
  },
  {
   "cell_type": "markdown",
   "metadata": {},
   "source": [
    "### Install required packages and import packages"
   ]
  },
  {
   "cell_type": "code",
   "execution_count": null,
   "metadata": {},
   "outputs": [],
   "source": [
    "%%capture pip_install_out\n",
    "\n",
    "!pip install pip --upgrade\n",
    "!pip install -r ../mlpipeline_utils/requirements.txt --upgrade"
   ]
  },
  {
   "cell_type": "code",
   "execution_count": null,
   "metadata": {},
   "outputs": [],
   "source": [
    "%load_ext autoreload\n",
    "%autoreload 2"
   ]
  },
  {
   "cell_type": "code",
   "execution_count": null,
   "metadata": {},
   "outputs": [],
   "source": [
    "import itertools\n",
    "import logging\n",
    "import os\n",
    "import sys\n",
    "sys.path.append('../mlpipeline_utils')\n",
    "import uuid\n",
    "\n",
    "import kfp\n",
    "import kfp.gcp\n",
    "\n",
    "from mlpipeline_utils.kfp_components import *\n",
    "\n",
    "\n",
    "logging.getLogger().setLevel(logging.INFO)"
   ]
  },
  {
   "cell_type": "code",
   "execution_count": null,
   "metadata": {},
   "outputs": [],
   "source": [
    "PROJECT_ID = !gcloud config get-value project\n",
    "PROJECT_ID = PROJECT_ID[0]\n",
    "DEV_BUCKET = f'gs://{PROJECT_ID}-dev'\n",
    "!gsutil mb -b on {DEV_BUCKET}\n",
    "BASE_GCS_PATH = os.path.join(DEV_BUCKET, 'notebooks')"
   ]
  },
  {
   "cell_type": "markdown",
   "metadata": {},
   "source": [
    "## Running notebook in the cluster"
   ]
  },
  {
   "cell_type": "markdown",
   "metadata": {},
   "source": [
    "### Defines a boilerplate Kubeflow Pipeline to run the notebook in the cluster"
   ]
  },
  {
   "cell_type": "code",
   "execution_count": null,
   "metadata": {},
   "outputs": [],
   "source": [
    "@kfp.dsl.pipeline()\n",
    "def run_notebook_pipeline(\n",
    "    notebook_path: str,\n",
    "    output_notebook_path: str,\n",
    "    papermill_options: str='',\n",
    "):\n",
    "    run_notebook_comp(\n",
    "        notebook_path=notebook_path,\n",
    "        output_notebook_path=output_notebook_path,\n",
    "        papermill_base_image=f'gcr.io/{PROJECT_ID}/kubeflow-jupyter',\n",
    "        papermill_options=papermill_options\n",
    "    ) \\\n",
    "        .apply(kfp.gcp.use_gcp_secret('user-gcp-sa')) \\\n",
    "        .set_cpu_request('2') \\\n",
    "#         .set_gpu_limit(1, 'nvidia')"
   ]
  },
  {
   "cell_type": "markdown",
   "metadata": {},
   "source": [
    "### Copy the local notebook to GCS and run the notebook in the cluster"
   ]
  },
  {
   "cell_type": "code",
   "execution_count": null,
   "metadata": {},
   "outputs": [],
   "source": [
    "notebook_name = 'sample_notebook.ipynb'"
   ]
  },
  {
   "cell_type": "code",
   "execution_count": null,
   "metadata": {},
   "outputs": [],
   "source": [
    "# notebook parameters\n",
    "parameters = {\n",
    "    'RUN_LOCAL': True\n",
    "}\n",
    "\n",
    "# boilerplate code to trigger the notebook run\n",
    "run_id = str(uuid.uuid4()).replace('-', '')\n",
    "\n",
    "# input notebook\n",
    "notebook_gcs_path = os.path.join(BASE_GCS_PATH, 'temp', run_id, 'input.ipynb')\n",
    "!gsutil cp {notebook_name} {notebook_gcs_path}\n",
    "\n",
    "# output notebook\n",
    "output_notebook_gcs_path = os.path.join(\n",
    "    BASE_GCS_PATH, 'temp', run_id, 'output.ipynb'\n",
    ")\n",
    "\n",
    "# create the pipeline run\n",
    "kfp.Client().create_run_from_pipeline_func(\n",
    "    run_notebook_pipeline,\n",
    "    arguments={\n",
    "        'notebook_path': notebook_gcs_path,\n",
    "        'output_notebook_path': output_notebook_gcs_path,\n",
    "        'papermill_options': ' '.join(\n",
    "            itertools.chain.from_iterable(\n",
    "                ['-p', str(k), str(v)] for k, v in parameters.items()\n",
    "            )\n",
    "        )\n",
    "    },\n",
    "    run_name=f'run_notebook_{run_id}'\n",
    ")"
   ]
  },
  {
   "cell_type": "markdown",
   "metadata": {},
   "source": [
    "### Retrieve the resulting notebook once it's done"
   ]
  },
  {
   "cell_type": "code",
   "execution_count": null,
   "metadata": {},
   "outputs": [],
   "source": [
    "!gsutil cp {output_notebook_gcs_path} {run_id}_{notebook_name}"
   ]
  }
 ],
 "metadata": {
  "kernelspec": {
   "display_name": "Python 3",
   "language": "python",
   "name": "python3"
  },
  "language_info": {
   "codemirror_mode": {
    "name": "ipython",
    "version": 3
   },
   "file_extension": ".py",
   "mimetype": "text/x-python",
   "name": "python",
   "nbconvert_exporter": "python",
   "pygments_lexer": "ipython3",
   "version": "3.6.7"
  }
 },
 "nbformat": 4,
 "nbformat_minor": 4
}
