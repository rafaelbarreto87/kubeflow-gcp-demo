{
 "cells": [
  {
   "cell_type": "code",
   "execution_count": 1,
   "metadata": {},
   "outputs": [
    {
     "name": "stdout",
     "output_type": "stream",
     "text": [
      "Activated service account credentials for: [kubeflow-user@learning-gcp-255620.iam.gserviceaccount.com]\n"
     ]
    }
   ],
   "source": [
    "!gcloud auth activate-service-account --key-file=${GOOGLE_APPLICATION_CREDENTIALS}"
   ]
  },
  {
   "cell_type": "code",
   "execution_count": 2,
   "metadata": {},
   "outputs": [],
   "source": [
    "import os\n",
    "\n",
    "import kfp\n",
    "import kfp.gcp"
   ]
  },
  {
   "cell_type": "code",
   "execution_count": 3,
   "metadata": {},
   "outputs": [],
   "source": [
    "PROJECT_ID = 'learning-gcp-255620'\n",
    "REGION = 'us-central1'\n",
    "BASE_GCS_PATH = f'gs://{PROJECT_ID}-kubeflow-dev/kubeflow_on_gcp_demo'"
   ]
  },
  {
   "cell_type": "code",
   "execution_count": 4,
   "metadata": {},
   "outputs": [
    {
     "data": {
      "text/plain": [
       "'gcr.io/learning-gcp-255620/notebook-kubeflow-rafaelbarreto87-testing/kfp_container@sha256:b972afe8bcfdda2da2cc3ccbb5d6d35346c4bae6cd133e9fc25017c5e971c23b'"
      ]
     },
     "execution_count": 4,
     "metadata": {},
     "output_type": "execute_result"
    }
   ],
   "source": [
    "BASE_IMAGE = kfp.containers.build_image_from_working_dir(\n",
    "    working_dir='src',\n",
    "    base_image='tensorflow/tensorflow:1.14.0-py3',\n",
    ")\n",
    "BASE_IMAGE"
   ]
  },
  {
   "cell_type": "code",
   "execution_count": 5,
   "metadata": {},
   "outputs": [],
   "source": [
    "@kfp.dsl.component\n",
    "def print_comp(msg: str):\n",
    "    return kfp.dsl.ContainerOp(\n",
    "        name='print',\n",
    "        image='alpine:3.6',\n",
    "        command=['echo', msg],\n",
    "    )\n",
    "\n",
    "\n",
    "@kfp.dsl.component\n",
    "def big_query_examples_gen_comp(\n",
    "    project_id: str,\n",
    "    region: str,\n",
    "    temp_dir: str,\n",
    "    query: str,\n",
    "    output_dir: str,\n",
    "    runner: str='DirectRunner'\n",
    "):\n",
    "    return kfp.dsl.ContainerOp(\n",
    "        name='BigQuery examples generator',\n",
    "        image=BASE_IMAGE,\n",
    "        command=['python3', '-m', 'demo.examples_gen'],\n",
    "        arguments=[\n",
    "            '--runner', runner,\n",
    "            '--project', project_id,\n",
    "            '--region', region,\n",
    "            '--temp_location', temp_dir,\n",
    "            '--query', query,\n",
    "            '--output_dir', output_dir\n",
    "        ]\n",
    "    )\n",
    "\n",
    "\n",
    "@kfp.dsl.component\n",
    "def tfrecord_stats_gen_comp(\n",
    "    project_id: str,\n",
    "    region: str,\n",
    "    temp_dir: str,\n",
    "    data_location: str,\n",
    "    output_dir: str,\n",
    "    runner: str='DirectRunner'\n",
    ") -> {'stats_output_path': str,\n",
    "      'stats_viz_output_path': str}:\n",
    "    return kfp.dsl.ContainerOp(\n",
    "        name='TFRecord statistics generator',\n",
    "        image=BASE_IMAGE,\n",
    "        command=['python3', '-m', 'demo.tfrecord_stats_gen'],\n",
    "        arguments=[\n",
    "            '--runner', runner,\n",
    "            '--project', project_id,\n",
    "            '--region', region,\n",
    "            '--temp_location', temp_dir,\n",
    "            '--data_location', data_location,\n",
    "            '--output_dir', output_dir,\n",
    "        ],\n",
    "        file_outputs={\n",
    "            'stats_output_path': '/tmp/stats_output_path.txt',\n",
    "            'stats_viz_output_path': '/tmp/stats_viz_output_path.txt',\n",
    "            'inferred_schema_output_path': '/tmp/inferred_schema_output_path.txt'\n",
    "        },\n",
    "        output_artifact_paths={\n",
    "            'mlpipeline-ui-metadata': '/tmp/mlpipeline-ui-metadata.json'\n",
    "        }\n",
    "    )"
   ]
  },
  {
   "cell_type": "code",
   "execution_count": 6,
   "metadata": {},
   "outputs": [],
   "source": [
    "@kfp.dsl.component\n",
    "def chicago_taxi_trips_examples_gen_comp(\n",
    "    project_id: str,\n",
    "    region: str,\n",
    "    temp_dir: str,\n",
    "    output_dir: str,\n",
    "    runner: str='DirectRunner'\n",
    "):\n",
    "    query = \"\"\"\n",
    "    SELECT\n",
    "        pickup_community_area,\n",
    "        fare,\n",
    "        EXTRACT(MONTH FROM trip_start_timestamp) AS trip_start_month,\n",
    "        EXTRACT(HOUR FROM trip_start_timestamp) AS trip_start_hour,\n",
    "        EXTRACT(DAYOFWEEK FROM trip_start_timestamp) AS trip_start_day,\n",
    "        UNIX_SECONDS(trip_start_timestamp) AS trip_start_timestamp,\n",
    "        pickup_latitude,\n",
    "        pickup_longitude,\n",
    "        dropoff_latitude,\n",
    "        dropoff_longitude,\n",
    "        trip_miles,\n",
    "        pickup_census_tract,\n",
    "        dropoff_census_tract,\n",
    "        payment_type,\n",
    "        company,\n",
    "        trip_seconds,\n",
    "        dropoff_community_area,\n",
    "        tips\n",
    "    FROM `bigquery-public-data.chicago_taxi_trips.taxi_trips`\n",
    "    LIMIT 10000\n",
    "    \"\"\"\n",
    "\n",
    "    return big_query_examples_gen_comp(\n",
    "        project_id=project_id,\n",
    "        region=region,\n",
    "        temp_dir=temp_dir,\n",
    "        query=query,\n",
    "        output_dir=output_dir,\n",
    "        runner=runner\n",
    "    )"
   ]
  },
  {
   "cell_type": "code",
   "execution_count": 7,
   "metadata": {},
   "outputs": [],
   "source": [
    "@kfp.dsl.pipeline(\n",
    "    name='Chicago taxi trips',\n",
    "    description='Demo of TFX and Kubeflow Pipelines on GCP using the Chicago taxi trips dataset.'\n",
    ")\n",
    "def chicago_taxi_trips_pipeline(\n",
    "    project_id: str,\n",
    "    region: str,\n",
    "    working_dir: str\n",
    "):\n",
    "    temp_dir = os.path.join(str(working_dir), '{{workflow.name}}', 'temp')\n",
    "    examples_output_dir = os.path.join(str(working_dir), '{{workflow.name}}', 'examples')\n",
    "    stats_output_dir = os.path.join(str(working_dir), '{{workflow.name}}', 'stats')\n",
    "    \n",
    "    examples_gen = chicago_taxi_trips_examples_gen_comp(\n",
    "        project_id=project_id,\n",
    "        region=region,\n",
    "        temp_dir=temp_dir,\n",
    "        output_dir=examples_output_dir\n",
    "    ).apply(kfp.gcp.use_gcp_secret('user-gcp-sa'))\n",
    "    \n",
    "    tfrecord_stats_gen = tfrecord_stats_gen_comp(\n",
    "        project_id=project_id,\n",
    "        region=region,\n",
    "        temp_dir=temp_dir,\n",
    "        data_location=os.path.join(str(examples_output_dir), 'part-*.tfrecord.gz'),\n",
    "        output_dir=stats_output_dir\n",
    "    ).apply(kfp.gcp.use_gcp_secret('user-gcp-sa'))\n",
    "    \n",
    "    tfrecord_stats_gen.after(examples_gen)\n",
    "    \n",
    "    print_comp(tfrecord_stats_gen.outputs['inferred_schema_output_path'])\n",
    "    print_comp(tfrecord_stats_gen.outputs['stats_output_path'])\n",
    "    print_comp(tfrecord_stats_gen.outputs['stats_viz_output_path'])"
   ]
  },
  {
   "cell_type": "code",
   "execution_count": 9,
   "metadata": {},
   "outputs": [
    {
     "data": {
      "text/html": [
       "Experiment link <a href=\"/pipeline/#/experiments/details/e8075b47-a646-4ed4-aa56-778b4b8326c5\" target=\"_blank\" >here</a>"
      ],
      "text/plain": [
       "<IPython.core.display.HTML object>"
      ]
     },
     "metadata": {},
     "output_type": "display_data"
    },
    {
     "data": {
      "text/html": [
       "Run link <a href=\"/pipeline/#/runs/details/3c2a6d82-f502-11e9-98ba-42010a8000a7\" target=\"_blank\" >here</a>"
      ],
      "text/plain": [
       "<IPython.core.display.HTML object>"
      ]
     },
     "metadata": {},
     "output_type": "display_data"
    },
    {
     "data": {
      "text/plain": [
       "<kfp._client.Client.create_run_from_pipeline_package.<locals>.RunPipelineResult at 0x7f2d609b7e80>"
      ]
     },
     "execution_count": 9,
     "metadata": {},
     "output_type": "execute_result"
    }
   ],
   "source": [
    "kfp.Client().create_run_from_pipeline_func(chicago_taxi_trips_pipeline, arguments={\n",
    "    'project_id': PROJECT_ID,\n",
    "    'region': REGION,\n",
    "    'working_dir': os.path.join(BASE_GCS_PATH, 'chicago_taxi_trips'),\n",
    "})"
   ]
  }
 ],
 "metadata": {
  "kernelspec": {
   "display_name": "Python 3",
   "language": "python",
   "name": "python3"
  },
  "language_info": {
   "codemirror_mode": {
    "name": "ipython",
    "version": 3
   },
   "file_extension": ".py",
   "mimetype": "text/x-python",
   "name": "python",
   "nbconvert_exporter": "python",
   "pygments_lexer": "ipython3",
   "version": "3.6.7"
  }
 },
 "nbformat": 4,
 "nbformat_minor": 2
}
